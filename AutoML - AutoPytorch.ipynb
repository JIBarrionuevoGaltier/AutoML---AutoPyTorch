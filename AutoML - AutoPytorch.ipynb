{
 "cells": [
  {
   "cell_type": "markdown",
   "id": "f90a261a-5868-4a81-b8f2-b4958c46aafb",
   "metadata": {
    "id": "zO4bRoxr2Apy"
   },
   "source": [
    "**Diplomatura en Ciencia de Datos, Aprendizaje Automático y sus Aplicaciones**\n",
    "\n",
    "**AutoML**\n",
    "\n",
    "*Edición 2021*\n",
    "\n",
    "---"
   ]
  },
  {
   "cell_type": "markdown",
   "id": "d26502eb-dfc6-486f-a913-62080667316a",
   "metadata": {
    "id": "zO4bRoxr2Apy",
    "tags": []
   },
   "source": [
    "# INTEGRANTES:\n",
    "*   María Belén Acotto\n",
    "*   Juan Ignacio Barrionuevo Galtier\n",
    "*   Gonzalo Heredia Edelstein\n",
    "\n",
    "---"
   ]
  },
  {
   "cell_type": "markdown",
   "id": "2442edcf-9319-4a8f-8a24-f3e3ca47ddc4",
   "metadata": {},
   "source": [
    "# Explicación"
   ]
  },
  {
   "cell_type": "markdown",
   "id": "f9ad839e-ac23-4d2e-9b33-ee6b44d78115",
   "metadata": {},
   "source": [
    "El dataset fue extraído del trabajo práctico de Análisis Supervisado, en donde se nos pedía implementar un modelo en el que se clasifique si un cliente de una empresa de viajes comprará o no un seguro de viajes de la misma empresa.\n",
    "\n",
    "---\n",
    "\n",
    "Features:\n",
    "* **Customer**: Id del cliente. _Variable Categórica_.\n",
    "* **Age**: Edad del cliente en cuestión. De entre los 25 a los 35 años en nuestro conjunto de Train. _Variable Numérica_.\n",
    "* **EmploymentType**: El tipo de empleo. Dos tipos: Sector privado o autónomo y sector público. _Variable Categórica Discreta_.\n",
    "* **GraduateOrNot**: Si son graduados universitarios o no. _Variable Categórica Discreta_.\n",
    "* **AnnualIncome**: Ingleso anual en rupias indias. _Variable Numérica_.\n",
    "* **FamilyMembers**: Cantidad de miembros en la familia. _Variable Numérica_.\n",
    "* **ChronicDiseases**: Si el cliente padece alguna enfermedad o condición importante como diabetes/alta presión arterial o asma, etc. _Variable Numérica_.\n",
    "* **FrequentFlyer**: Datos derivados basados en el historial del cliente. Indica si un cliente hizo una reserva de pasaje de avión en al menos 4 instancias diferentes en los últimos 2 años (2017-2019). _Variable Categórica Discreta_.\n",
    "* **EverTravelledAbroad**: Indica si el cliente viajó o no al extranjero. _Variable Categórica Discreta_.\n",
    "\n",
    "Target:\n",
    "* **TravelInsurance**: Variable binaria que indica 1 (uno), si el cliente compró el paquete de seguro de viaje, o 0 (cero), si no lo hizo. Esto se basa en el año 2019.\n",
    "---"
   ]
  },
  {
   "cell_type": "markdown",
   "id": "0ef0242f-41cf-4893-b254-70e3140c2e00",
   "metadata": {},
   "source": [
    "# Objetivo"
   ]
  },
  {
   "cell_type": "markdown",
   "id": "d7b2c50d-3a37-425f-be4a-75081e044a5e",
   "metadata": {},
   "source": [
    "El objetivo de este trabajo práctico era implementar un algorítmo basado en árboles intentando mejorar el f1-score. \\\n",
    "Implementaremos AutoPytorch con su aplicación para clasificar, y veremos los resultados obtenidos.\n",
    "\n",
    "---"
   ]
  },
  {
   "cell_type": "markdown",
   "id": "0731d5f2-f985-414e-817a-dc254280ee29",
   "metadata": {},
   "source": [
    "## Importación de Librerías"
   ]
  },
  {
   "cell_type": "code",
   "execution_count": 52,
   "id": "c951bbf5-6a83-4077-b640-4b9ea247640b",
   "metadata": {},
   "outputs": [],
   "source": [
    "from autoPyTorch.api.tabular_classification import TabularClassificationTask\n",
    "\n",
    "import pandas as pd\n",
    "import numpy as np\n",
    "import matplotlib.pyplot as plt\n",
    "import seaborn as sns\n",
    "import os\n",
    "from tabulate import tabulate\n",
    "import math\n",
    "import warnings\n",
    "warnings.filterwarnings('ignore')\n",
    "\n",
    "from sklearn.preprocessing import LabelEncoder\n",
    "from sklearn.ensemble import RandomForestClassifier\n",
    "from sklearn.model_selection import GridSearchCV, RepeatedStratifiedKFold\n",
    "from sklearn.metrics import confusion_matrix, classification_report, ConfusionMatrixDisplay\n",
    "from imblearn.over_sampling import SMOTE"
   ]
  },
  {
   "cell_type": "markdown",
   "id": "00d1d045-1eb5-4220-9ba0-15c001b84cc8",
   "metadata": {},
   "source": [
    "## Análisis y Pre-Proceso"
   ]
  },
  {
   "cell_type": "markdown",
   "id": "06363b95-eebc-4aa5-b606-ada433d1af21",
   "metadata": {},
   "source": [
    "### Lectura del Dataset"
   ]
  },
  {
   "cell_type": "code",
   "execution_count": 15,
   "id": "64e6e2d8-0a9e-4271-b6a3-5cf70bc6ac46",
   "metadata": {},
   "outputs": [],
   "source": [
    "df = pd.read_csv('./src/travel_insurance_prediction_train.csv')\n",
    "test_df = pd.read_csv('./src/travel_insurance_prediction_test.csv')"
   ]
  },
  {
   "cell_type": "markdown",
   "id": "1b083b20-d255-42ff-9d9f-e5c91f1caeaf",
   "metadata": {},
   "source": [
    "### EDA"
   ]
  },
  {
   "cell_type": "code",
   "execution_count": 16,
   "id": "9d19d9bf-fd75-4a47-8b37-d182f964f0db",
   "metadata": {
    "tags": []
   },
   "outputs": [
    {
     "name": "stdout",
     "output_type": "stream",
     "text": [
      "<class 'pandas.core.frame.DataFrame'>\n",
      "RangeIndex: 1490 entries, 0 to 1489\n",
      "Data columns (total 10 columns):\n",
      " #   Column               Non-Null Count  Dtype \n",
      "---  ------               --------------  ----- \n",
      " 0   Customer             1490 non-null   int64 \n",
      " 1   Age                  1490 non-null   int64 \n",
      " 2   Employment Type      1490 non-null   object\n",
      " 3   GraduateOrNot        1490 non-null   object\n",
      " 4   AnnualIncome         1490 non-null   int64 \n",
      " 5   FamilyMembers        1490 non-null   int64 \n",
      " 6   ChronicDiseases      1490 non-null   int64 \n",
      " 7   FrequentFlyer        1490 non-null   object\n",
      " 8   EverTravelledAbroad  1490 non-null   object\n",
      " 9   TravelInsurance      1490 non-null   int64 \n",
      "dtypes: int64(6), object(4)\n",
      "memory usage: 116.5+ KB\n"
     ]
    }
   ],
   "source": [
    "df.info()"
   ]
  },
  {
   "cell_type": "code",
   "execution_count": 17,
   "id": "87fbdc36-4942-45c3-b714-ab02bacddf34",
   "metadata": {
    "tags": []
   },
   "outputs": [
    {
     "name": "stdout",
     "output_type": "stream",
     "text": [
      "<class 'pandas.core.frame.DataFrame'>\n",
      "RangeIndex: 497 entries, 0 to 496\n",
      "Data columns (total 9 columns):\n",
      " #   Column               Non-Null Count  Dtype \n",
      "---  ------               --------------  ----- \n",
      " 0   Customer             497 non-null    int64 \n",
      " 1   Age                  497 non-null    int64 \n",
      " 2   Employment Type      497 non-null    object\n",
      " 3   GraduateOrNot        497 non-null    object\n",
      " 4   AnnualIncome         497 non-null    int64 \n",
      " 5   FamilyMembers        497 non-null    int64 \n",
      " 6   ChronicDiseases      497 non-null    int64 \n",
      " 7   FrequentFlyer        497 non-null    object\n",
      " 8   EverTravelledAbroad  497 non-null    object\n",
      "dtypes: int64(5), object(4)\n",
      "memory usage: 35.1+ KB\n"
     ]
    }
   ],
   "source": [
    "test_df.info()"
   ]
  },
  {
   "cell_type": "code",
   "execution_count": 18,
   "id": "2a96603a-67ca-49cc-a7e0-f7da2507b388",
   "metadata": {},
   "outputs": [
    {
     "data": {
      "text/html": [
       "<div>\n",
       "<style scoped>\n",
       "    .dataframe tbody tr th:only-of-type {\n",
       "        vertical-align: middle;\n",
       "    }\n",
       "\n",
       "    .dataframe tbody tr th {\n",
       "        vertical-align: top;\n",
       "    }\n",
       "\n",
       "    .dataframe thead th {\n",
       "        text-align: right;\n",
       "    }\n",
       "</style>\n",
       "<table border=\"1\" class=\"dataframe\">\n",
       "  <thead>\n",
       "    <tr style=\"text-align: right;\">\n",
       "      <th></th>\n",
       "      <th>Customer</th>\n",
       "      <th>Age</th>\n",
       "      <th>AnnualIncome</th>\n",
       "      <th>FamilyMembers</th>\n",
       "      <th>ChronicDiseases</th>\n",
       "      <th>TravelInsurance</th>\n",
       "    </tr>\n",
       "  </thead>\n",
       "  <tbody>\n",
       "    <tr>\n",
       "      <th>count</th>\n",
       "      <td>1490.000000</td>\n",
       "      <td>1490.000000</td>\n",
       "      <td>1.490000e+03</td>\n",
       "      <td>1490.000000</td>\n",
       "      <td>1490.000000</td>\n",
       "      <td>1490.000000</td>\n",
       "    </tr>\n",
       "    <tr>\n",
       "      <th>mean</th>\n",
       "      <td>745.500000</td>\n",
       "      <td>29.667114</td>\n",
       "      <td>9.278188e+05</td>\n",
       "      <td>4.777181</td>\n",
       "      <td>0.275839</td>\n",
       "      <td>0.357047</td>\n",
       "    </tr>\n",
       "    <tr>\n",
       "      <th>std</th>\n",
       "      <td>430.270264</td>\n",
       "      <td>2.880994</td>\n",
       "      <td>3.811715e+05</td>\n",
       "      <td>1.640248</td>\n",
       "      <td>0.447086</td>\n",
       "      <td>0.479290</td>\n",
       "    </tr>\n",
       "    <tr>\n",
       "      <th>min</th>\n",
       "      <td>1.000000</td>\n",
       "      <td>25.000000</td>\n",
       "      <td>3.000000e+05</td>\n",
       "      <td>2.000000</td>\n",
       "      <td>0.000000</td>\n",
       "      <td>0.000000</td>\n",
       "    </tr>\n",
       "    <tr>\n",
       "      <th>25%</th>\n",
       "      <td>373.250000</td>\n",
       "      <td>28.000000</td>\n",
       "      <td>6.000000e+05</td>\n",
       "      <td>4.000000</td>\n",
       "      <td>0.000000</td>\n",
       "      <td>0.000000</td>\n",
       "    </tr>\n",
       "    <tr>\n",
       "      <th>50%</th>\n",
       "      <td>745.500000</td>\n",
       "      <td>29.000000</td>\n",
       "      <td>9.000000e+05</td>\n",
       "      <td>5.000000</td>\n",
       "      <td>0.000000</td>\n",
       "      <td>0.000000</td>\n",
       "    </tr>\n",
       "    <tr>\n",
       "      <th>75%</th>\n",
       "      <td>1117.750000</td>\n",
       "      <td>32.000000</td>\n",
       "      <td>1.250000e+06</td>\n",
       "      <td>6.000000</td>\n",
       "      <td>1.000000</td>\n",
       "      <td>1.000000</td>\n",
       "    </tr>\n",
       "    <tr>\n",
       "      <th>max</th>\n",
       "      <td>1490.000000</td>\n",
       "      <td>35.000000</td>\n",
       "      <td>1.800000e+06</td>\n",
       "      <td>9.000000</td>\n",
       "      <td>1.000000</td>\n",
       "      <td>1.000000</td>\n",
       "    </tr>\n",
       "  </tbody>\n",
       "</table>\n",
       "</div>"
      ],
      "text/plain": [
       "          Customer          Age  AnnualIncome  FamilyMembers  ChronicDiseases  \\\n",
       "count  1490.000000  1490.000000  1.490000e+03    1490.000000      1490.000000   \n",
       "mean    745.500000    29.667114  9.278188e+05       4.777181         0.275839   \n",
       "std     430.270264     2.880994  3.811715e+05       1.640248         0.447086   \n",
       "min       1.000000    25.000000  3.000000e+05       2.000000         0.000000   \n",
       "25%     373.250000    28.000000  6.000000e+05       4.000000         0.000000   \n",
       "50%     745.500000    29.000000  9.000000e+05       5.000000         0.000000   \n",
       "75%    1117.750000    32.000000  1.250000e+06       6.000000         1.000000   \n",
       "max    1490.000000    35.000000  1.800000e+06       9.000000         1.000000   \n",
       "\n",
       "       TravelInsurance  \n",
       "count      1490.000000  \n",
       "mean          0.357047  \n",
       "std           0.479290  \n",
       "min           0.000000  \n",
       "25%           0.000000  \n",
       "50%           0.000000  \n",
       "75%           1.000000  \n",
       "max           1.000000  "
      ]
     },
     "execution_count": 18,
     "metadata": {},
     "output_type": "execute_result"
    }
   ],
   "source": [
    "df.describe()"
   ]
  },
  {
   "cell_type": "code",
   "execution_count": 19,
   "id": "d9538db4-82c8-41f1-893a-b02762e73921",
   "metadata": {},
   "outputs": [
    {
     "data": {
      "text/html": [
       "<div>\n",
       "<style scoped>\n",
       "    .dataframe tbody tr th:only-of-type {\n",
       "        vertical-align: middle;\n",
       "    }\n",
       "\n",
       "    .dataframe tbody tr th {\n",
       "        vertical-align: top;\n",
       "    }\n",
       "\n",
       "    .dataframe thead th {\n",
       "        text-align: right;\n",
       "    }\n",
       "</style>\n",
       "<table border=\"1\" class=\"dataframe\">\n",
       "  <thead>\n",
       "    <tr style=\"text-align: right;\">\n",
       "      <th></th>\n",
       "      <th>Customer</th>\n",
       "      <th>Age</th>\n",
       "      <th>AnnualIncome</th>\n",
       "      <th>FamilyMembers</th>\n",
       "      <th>ChronicDiseases</th>\n",
       "    </tr>\n",
       "  </thead>\n",
       "  <tbody>\n",
       "    <tr>\n",
       "      <th>count</th>\n",
       "      <td>497.000000</td>\n",
       "      <td>497.000000</td>\n",
       "      <td>4.970000e+02</td>\n",
       "      <td>497.00000</td>\n",
       "      <td>497.000000</td>\n",
       "    </tr>\n",
       "    <tr>\n",
       "      <th>mean</th>\n",
       "      <td>1739.000000</td>\n",
       "      <td>29.599598</td>\n",
       "      <td>9.475855e+05</td>\n",
       "      <td>4.68008</td>\n",
       "      <td>0.283702</td>\n",
       "    </tr>\n",
       "    <tr>\n",
       "      <th>std</th>\n",
       "      <td>143.615807</td>\n",
       "      <td>3.010506</td>\n",
       "      <td>3.635818e+05</td>\n",
       "      <td>1.51347</td>\n",
       "      <td>0.451248</td>\n",
       "    </tr>\n",
       "    <tr>\n",
       "      <th>min</th>\n",
       "      <td>1491.000000</td>\n",
       "      <td>25.000000</td>\n",
       "      <td>3.000000e+05</td>\n",
       "      <td>2.00000</td>\n",
       "      <td>0.000000</td>\n",
       "    </tr>\n",
       "    <tr>\n",
       "      <th>25%</th>\n",
       "      <td>1615.000000</td>\n",
       "      <td>28.000000</td>\n",
       "      <td>6.500000e+05</td>\n",
       "      <td>4.00000</td>\n",
       "      <td>0.000000</td>\n",
       "    </tr>\n",
       "    <tr>\n",
       "      <th>50%</th>\n",
       "      <td>1739.000000</td>\n",
       "      <td>29.000000</td>\n",
       "      <td>9.500000e+05</td>\n",
       "      <td>4.00000</td>\n",
       "      <td>0.000000</td>\n",
       "    </tr>\n",
       "    <tr>\n",
       "      <th>75%</th>\n",
       "      <td>1863.000000</td>\n",
       "      <td>32.000000</td>\n",
       "      <td>1.250000e+06</td>\n",
       "      <td>6.00000</td>\n",
       "      <td>1.000000</td>\n",
       "    </tr>\n",
       "    <tr>\n",
       "      <th>max</th>\n",
       "      <td>1987.000000</td>\n",
       "      <td>35.000000</td>\n",
       "      <td>1.750000e+06</td>\n",
       "      <td>9.00000</td>\n",
       "      <td>1.000000</td>\n",
       "    </tr>\n",
       "  </tbody>\n",
       "</table>\n",
       "</div>"
      ],
      "text/plain": [
       "          Customer         Age  AnnualIncome  FamilyMembers  ChronicDiseases\n",
       "count   497.000000  497.000000  4.970000e+02      497.00000       497.000000\n",
       "mean   1739.000000   29.599598  9.475855e+05        4.68008         0.283702\n",
       "std     143.615807    3.010506  3.635818e+05        1.51347         0.451248\n",
       "min    1491.000000   25.000000  3.000000e+05        2.00000         0.000000\n",
       "25%    1615.000000   28.000000  6.500000e+05        4.00000         0.000000\n",
       "50%    1739.000000   29.000000  9.500000e+05        4.00000         0.000000\n",
       "75%    1863.000000   32.000000  1.250000e+06        6.00000         1.000000\n",
       "max    1987.000000   35.000000  1.750000e+06        9.00000         1.000000"
      ]
     },
     "execution_count": 19,
     "metadata": {},
     "output_type": "execute_result"
    }
   ],
   "source": [
    "test_df.describe()"
   ]
  },
  {
   "cell_type": "code",
   "execution_count": 20,
   "id": "279c0355-ab8f-4bb5-8c64-1be4f42d2b4f",
   "metadata": {},
   "outputs": [],
   "source": [
    "df = df.rename(columns={'Employment Type': 'EmploymentType'})\n",
    "test_df = test_df.rename(columns={'Employment Type': 'EmploymentType'})"
   ]
  },
  {
   "cell_type": "code",
   "execution_count": 21,
   "id": "ad35b188-3394-47ee-939b-13b3fe7a8a35",
   "metadata": {},
   "outputs": [
    {
     "name": "stdout",
     "output_type": "stream",
     "text": [
      "EmploymentType: ['Private Sector/Self Employed' 'Government Sector']\n",
      "GraduateOrNot: ['Yes' 'No']\n",
      "FrequentFlyer: ['No' 'Yes']\n",
      "EverTravelledAbroad: ['No' 'Yes']\n"
     ]
    }
   ],
   "source": [
    "cat_ftrs = df.select_dtypes(include = \"object\").columns.values #Tomamos aquellas columnas categóricas\n",
    "num_ftrs = df.iloc[:, 1:-1].columns.values[~np.isin(df.iloc[:, 1:-1].columns.values, cat_ftrs)] #Tomamos aquellas columnas numéricas sin el Id y el Target\n",
    "\n",
    "for col in cat_ftrs:\n",
    "    print(f'{col}: {df[col].unique()}')"
   ]
  },
  {
   "cell_type": "markdown",
   "id": "bc1186e0-0f5b-4d0b-af45-c3e88cf51b18",
   "metadata": {},
   "source": [
    "### Features"
   ]
  },
  {
   "cell_type": "markdown",
   "id": "e2914150-22d4-4621-91e3-ec260d3fded0",
   "metadata": {},
   "source": [
    "Como primera instancia, tenemos la variable **Customer**, la cual es un id, por lo que directamente sacaremos del análisis."
   ]
  },
  {
   "cell_type": "code",
   "execution_count": 22,
   "id": "fb0fa172-a66f-4613-85e6-4fc800d9f879",
   "metadata": {},
   "outputs": [],
   "source": [
    "df_ti = df.drop(columns=['Customer'])\n",
    "test_df_ti = test_df.drop(columns=['Customer'])"
   ]
  },
  {
   "cell_type": "markdown",
   "id": "8178c84f-07ab-42a5-8e42-459874e50ceb",
   "metadata": {},
   "source": [
    "#### Features Categóricas"
   ]
  },
  {
   "cell_type": "markdown",
   "id": "dee3b284-a79f-4010-a970-f7ad5a1ef3de",
   "metadata": {},
   "source": [
    "Como analizamos, las variables categóricas tienen valores que se los puede considerar binarias, por lo que trataremos las mismas con una codificación aplicando LabelEncoder. Esto hará que se conserve una sola columna de dos valores: 0 y 1. Al aplicar esta técnica, disminuímos el riesgo de agregar ruido a nuestros datos."
   ]
  },
  {
   "cell_type": "code",
   "execution_count": 23,
   "id": "56b78a86-6b28-4d0f-9ee0-4b5af5d6f33c",
   "metadata": {},
   "outputs": [
    {
     "name": "stdout",
     "output_type": "stream",
     "text": [
      "<class 'pandas.core.frame.DataFrame'>\n",
      "RangeIndex: 1490 entries, 0 to 1489\n",
      "Data columns (total 9 columns):\n",
      " #   Column               Non-Null Count  Dtype\n",
      "---  ------               --------------  -----\n",
      " 0   Age                  1490 non-null   int64\n",
      " 1   EmploymentType       1490 non-null   int64\n",
      " 2   GraduateOrNot        1490 non-null   int64\n",
      " 3   AnnualIncome         1490 non-null   int64\n",
      " 4   FamilyMembers        1490 non-null   int64\n",
      " 5   ChronicDiseases      1490 non-null   int64\n",
      " 6   FrequentFlyer        1490 non-null   int64\n",
      " 7   EverTravelledAbroad  1490 non-null   int64\n",
      " 8   TravelInsurance      1490 non-null   int64\n",
      "dtypes: int64(9)\n",
      "memory usage: 104.9 KB\n",
      "None\n"
     ]
    }
   ],
   "source": [
    "for feat in cat_ftrs:\n",
    "    df_ti[feat] = LabelEncoder().fit_transform(df_ti[feat].astype(str))\n",
    "\n",
    "print (df_ti.info())"
   ]
  },
  {
   "cell_type": "code",
   "execution_count": 15,
   "id": "906ef08c-2ba2-4c89-8fc5-b2eaa4767831",
   "metadata": {},
   "outputs": [
    {
     "data": {
      "text/html": [
       "<div>\n",
       "<style scoped>\n",
       "    .dataframe tbody tr th:only-of-type {\n",
       "        vertical-align: middle;\n",
       "    }\n",
       "\n",
       "    .dataframe tbody tr th {\n",
       "        vertical-align: top;\n",
       "    }\n",
       "\n",
       "    .dataframe thead th {\n",
       "        text-align: right;\n",
       "    }\n",
       "</style>\n",
       "<table border=\"1\" class=\"dataframe\">\n",
       "  <thead>\n",
       "    <tr style=\"text-align: right;\">\n",
       "      <th></th>\n",
       "      <th>Age</th>\n",
       "      <th>EmploymentType</th>\n",
       "      <th>GraduateOrNot</th>\n",
       "      <th>AnnualIncome</th>\n",
       "      <th>FamilyMembers</th>\n",
       "      <th>ChronicDiseases</th>\n",
       "      <th>FrequentFlyer</th>\n",
       "      <th>EverTravelledAbroad</th>\n",
       "      <th>TravelInsurance</th>\n",
       "    </tr>\n",
       "  </thead>\n",
       "  <tbody>\n",
       "    <tr>\n",
       "      <th>count</th>\n",
       "      <td>1490.000000</td>\n",
       "      <td>1490.000000</td>\n",
       "      <td>1490.000000</td>\n",
       "      <td>1.490000e+03</td>\n",
       "      <td>1490.000000</td>\n",
       "      <td>1490.000000</td>\n",
       "      <td>1490.000000</td>\n",
       "      <td>1490.000000</td>\n",
       "      <td>1490.000000</td>\n",
       "    </tr>\n",
       "    <tr>\n",
       "      <th>mean</th>\n",
       "      <td>29.667114</td>\n",
       "      <td>0.709396</td>\n",
       "      <td>0.851007</td>\n",
       "      <td>9.278188e+05</td>\n",
       "      <td>4.777181</td>\n",
       "      <td>0.275839</td>\n",
       "      <td>0.212752</td>\n",
       "      <td>0.193289</td>\n",
       "      <td>0.357047</td>\n",
       "    </tr>\n",
       "    <tr>\n",
       "      <th>std</th>\n",
       "      <td>2.880994</td>\n",
       "      <td>0.454194</td>\n",
       "      <td>0.356201</td>\n",
       "      <td>3.811715e+05</td>\n",
       "      <td>1.640248</td>\n",
       "      <td>0.447086</td>\n",
       "      <td>0.409391</td>\n",
       "      <td>0.395010</td>\n",
       "      <td>0.479290</td>\n",
       "    </tr>\n",
       "    <tr>\n",
       "      <th>min</th>\n",
       "      <td>25.000000</td>\n",
       "      <td>0.000000</td>\n",
       "      <td>0.000000</td>\n",
       "      <td>3.000000e+05</td>\n",
       "      <td>2.000000</td>\n",
       "      <td>0.000000</td>\n",
       "      <td>0.000000</td>\n",
       "      <td>0.000000</td>\n",
       "      <td>0.000000</td>\n",
       "    </tr>\n",
       "    <tr>\n",
       "      <th>25%</th>\n",
       "      <td>28.000000</td>\n",
       "      <td>0.000000</td>\n",
       "      <td>1.000000</td>\n",
       "      <td>6.000000e+05</td>\n",
       "      <td>4.000000</td>\n",
       "      <td>0.000000</td>\n",
       "      <td>0.000000</td>\n",
       "      <td>0.000000</td>\n",
       "      <td>0.000000</td>\n",
       "    </tr>\n",
       "    <tr>\n",
       "      <th>50%</th>\n",
       "      <td>29.000000</td>\n",
       "      <td>1.000000</td>\n",
       "      <td>1.000000</td>\n",
       "      <td>9.000000e+05</td>\n",
       "      <td>5.000000</td>\n",
       "      <td>0.000000</td>\n",
       "      <td>0.000000</td>\n",
       "      <td>0.000000</td>\n",
       "      <td>0.000000</td>\n",
       "    </tr>\n",
       "    <tr>\n",
       "      <th>75%</th>\n",
       "      <td>32.000000</td>\n",
       "      <td>1.000000</td>\n",
       "      <td>1.000000</td>\n",
       "      <td>1.250000e+06</td>\n",
       "      <td>6.000000</td>\n",
       "      <td>1.000000</td>\n",
       "      <td>0.000000</td>\n",
       "      <td>0.000000</td>\n",
       "      <td>1.000000</td>\n",
       "    </tr>\n",
       "    <tr>\n",
       "      <th>max</th>\n",
       "      <td>35.000000</td>\n",
       "      <td>1.000000</td>\n",
       "      <td>1.000000</td>\n",
       "      <td>1.800000e+06</td>\n",
       "      <td>9.000000</td>\n",
       "      <td>1.000000</td>\n",
       "      <td>1.000000</td>\n",
       "      <td>1.000000</td>\n",
       "      <td>1.000000</td>\n",
       "    </tr>\n",
       "  </tbody>\n",
       "</table>\n",
       "</div>"
      ],
      "text/plain": [
       "               Age  EmploymentType  GraduateOrNot  AnnualIncome  \\\n",
       "count  1490.000000     1490.000000    1490.000000  1.490000e+03   \n",
       "mean     29.667114        0.709396       0.851007  9.278188e+05   \n",
       "std       2.880994        0.454194       0.356201  3.811715e+05   \n",
       "min      25.000000        0.000000       0.000000  3.000000e+05   \n",
       "25%      28.000000        0.000000       1.000000  6.000000e+05   \n",
       "50%      29.000000        1.000000       1.000000  9.000000e+05   \n",
       "75%      32.000000        1.000000       1.000000  1.250000e+06   \n",
       "max      35.000000        1.000000       1.000000  1.800000e+06   \n",
       "\n",
       "       FamilyMembers  ChronicDiseases  FrequentFlyer  EverTravelledAbroad  \\\n",
       "count    1490.000000      1490.000000    1490.000000          1490.000000   \n",
       "mean        4.777181         0.275839       0.212752             0.193289   \n",
       "std         1.640248         0.447086       0.409391             0.395010   \n",
       "min         2.000000         0.000000       0.000000             0.000000   \n",
       "25%         4.000000         0.000000       0.000000             0.000000   \n",
       "50%         5.000000         0.000000       0.000000             0.000000   \n",
       "75%         6.000000         1.000000       0.000000             0.000000   \n",
       "max         9.000000         1.000000       1.000000             1.000000   \n",
       "\n",
       "       TravelInsurance  \n",
       "count      1490.000000  \n",
       "mean          0.357047  \n",
       "std           0.479290  \n",
       "min           0.000000  \n",
       "25%           0.000000  \n",
       "50%           0.000000  \n",
       "75%           1.000000  \n",
       "max           1.000000  "
      ]
     },
     "execution_count": 15,
     "metadata": {},
     "output_type": "execute_result"
    }
   ],
   "source": [
    "df_ti.describe()"
   ]
  },
  {
   "cell_type": "markdown",
   "id": "6bb340ea-9ca0-43b8-83a1-4811d02c39f3",
   "metadata": {},
   "source": [
    "Conclusión de Encoder:\n",
    "* **EmploymentType**: {1: Private Sector/Self Employed, 0: Government Sector}\n",
    "* **GraduateOrNot**: {1: Yes, 0: No}\n",
    "* **FrequentFlyer**: {1: Yes, 0: No}\n",
    "* **EverTravelledAbroad**: {1: Yes, 0: No}"
   ]
  },
  {
   "cell_type": "code",
   "execution_count": 16,
   "id": "f21bd1a2-14a8-4b82-9459-25ff429148e9",
   "metadata": {},
   "outputs": [
    {
     "name": "stdout",
     "output_type": "stream",
     "text": [
      "EmploymentType\n",
      "1    70.939597\n",
      "0    29.060403\n",
      "Name: EmploymentType, dtype: float64\n",
      "---\n",
      "GraduateOrNot\n",
      "1    85.100671\n",
      "0    14.899329\n",
      "Name: GraduateOrNot, dtype: float64\n",
      "---\n",
      "FrequentFlyer\n",
      "0    78.724832\n",
      "1    21.275168\n",
      "Name: FrequentFlyer, dtype: float64\n",
      "---\n",
      "EverTravelledAbroad\n",
      "0    80.671141\n",
      "1    19.328859\n",
      "Name: EverTravelledAbroad, dtype: float64\n",
      "---\n"
     ]
    }
   ],
   "source": [
    "for col in cat_ftrs:\n",
    "    print(col)\n",
    "    print(df_ti[col].value_counts(normalize=True)*100)\n",
    "    print('---')"
   ]
  },
  {
   "cell_type": "markdown",
   "id": "b5ee6327-35b8-4608-9de2-d4dabb0a926e",
   "metadata": {},
   "source": [
    "Conclusión de estas variables:\n",
    "* **EmploymentType**: Tenemos un 70% de clientes que trabajan en el sector privado.\n",
    "* **GraduateOrNot**: Son en su mayoría universitarios los clientes de esta empresa, considerando un 85% de ellos.\n",
    "* **FrequentFlyer**: Podemos observar que la gran mayoría son viajantes frecuentes.\n",
    "* **EverTravelledAbroad**: El 80% de los clientes han viajado al extranjero."
   ]
  },
  {
   "cell_type": "markdown",
   "id": "6ccf0622-5e14-4720-8233-0956b132857e",
   "metadata": {},
   "source": [
    "Aplicamos LabelEncoder a Test"
   ]
  },
  {
   "cell_type": "code",
   "execution_count": 26,
   "id": "275788cb-7cdc-4e47-8163-28cb7a4472f4",
   "metadata": {},
   "outputs": [
    {
     "name": "stdout",
     "output_type": "stream",
     "text": [
      "<class 'pandas.core.frame.DataFrame'>\n",
      "RangeIndex: 497 entries, 0 to 496\n",
      "Data columns (total 8 columns):\n",
      " #   Column               Non-Null Count  Dtype\n",
      "---  ------               --------------  -----\n",
      " 0   Age                  497 non-null    int64\n",
      " 1   EmploymentType       497 non-null    int64\n",
      " 2   GraduateOrNot        497 non-null    int64\n",
      " 3   AnnualIncome         497 non-null    int64\n",
      " 4   FamilyMembers        497 non-null    int64\n",
      " 5   ChronicDiseases      497 non-null    int64\n",
      " 6   FrequentFlyer        497 non-null    int64\n",
      " 7   EverTravelledAbroad  497 non-null    int64\n",
      "dtypes: int64(8)\n",
      "memory usage: 31.2 KB\n",
      "None\n"
     ]
    }
   ],
   "source": [
    "for feat in cat_ftrs:\n",
    "    test_df_ti[feat] = LabelEncoder().fit_transform(test_df_ti[feat].astype(str))\n",
    "\n",
    "print (test_df_ti.info())"
   ]
  },
  {
   "cell_type": "markdown",
   "id": "5f245ebf-7559-4dcb-b2f0-0a55975ab9ec",
   "metadata": {},
   "source": [
    "#### Features Numéricas"
   ]
  },
  {
   "cell_type": "code",
   "execution_count": 27,
   "id": "e771e214-4de5-4aa1-813d-bd4a23755b7c",
   "metadata": {},
   "outputs": [
    {
     "data": {
      "image/png": "[encoded data removed]",
      "text/plain": [
       "<Figure size 1728x720 with 4 Axes>"
      ]
     },
     "metadata": {
      "needs_background": "light"
     },
     "output_type": "display_data"
    }
   ],
   "source": [
    "n_rows = 2\n",
    "n_cols = 2\n",
    "count = 0\n",
    "fig, ax = plt.subplots(n_rows, n_cols, figsize=(24,10))\n",
    "for i in num_ftrs:\n",
    "    row = math.floor(count / n_cols)\n",
    "    col = count % n_cols\n",
    "    axes = ax[row, col]\n",
    "    sns.boxenplot(data=df_ti, x=i, color='green', ax=axes)\n",
    "    axes.set_title(f'Distribución de {i}', fontsize=14)\n",
    "    count += 1\n",
    "fig.suptitle('Distribuciones de Features Numéricas', fontsize=18)\n",
    "plt.show()"
   ]
  },
  {
   "cell_type": "markdown",
   "id": "8492dbcb-8ef4-4e2b-ba84-b2dde985e5dc",
   "metadata": {},
   "source": [
    "• Age"
   ]
  },
  {
   "cell_type": "code",
   "execution_count": 28,
   "id": "5dc56033-2a3c-416f-aafd-4b2ca83cf3de",
   "metadata": {},
   "outputs": [
    {
     "data": {
      "text/plain": [
       "28    371\n",
       "34    194\n",
       "31    177\n",
       "29    148\n",
       "33    119\n",
       "26    108\n",
       "27    105\n",
       "25    103\n",
       "32     73\n",
       "30     52\n",
       "35     40\n",
       "Name: Age, dtype: int64"
      ]
     },
     "execution_count": 28,
     "metadata": {},
     "output_type": "execute_result"
    }
   ],
   "source": [
    "df_ti.Age.value_counts()"
   ]
  },
  {
   "cell_type": "markdown",
   "id": "5eb7b9e8-893b-441c-82b7-b3701be15dda",
   "metadata": {},
   "source": [
    "• FamilyMembers"
   ]
  },
  {
   "cell_type": "code",
   "execution_count": 29,
   "id": "fec18b03-7860-45a7-9be0-b4e13e785b8f",
   "metadata": {},
   "outputs": [
    {
     "data": {
      "text/plain": [
       "4    361\n",
       "5    322\n",
       "3    291\n",
       "6    216\n",
       "7    138\n",
       "2     69\n",
       "9     47\n",
       "8     46\n",
       "Name: FamilyMembers, dtype: int64"
      ]
     },
     "execution_count": 29,
     "metadata": {},
     "output_type": "execute_result"
    }
   ],
   "source": [
    "df_ti.FamilyMembers.value_counts()"
   ]
  },
  {
   "cell_type": "markdown",
   "id": "9db6ff8a-c2ab-4d4f-872c-2364eaa13ff7",
   "metadata": {},
   "source": [
    "• AnnualIncome"
   ]
  },
  {
   "cell_type": "code",
   "execution_count": 30,
   "id": "e514d3be-2aee-4f8b-b485-e496b15dadb4",
   "metadata": {},
   "outputs": [
    {
     "data": {
      "text/plain": [
       "500000    106\n",
       "600000     76\n",
       "300000     68\n",
       "550000     60\n",
       "400000     53\n",
       "350000     48\n",
       "450000     11\n",
       "Name: AnnualIncome, dtype: int64"
      ]
     },
     "execution_count": 30,
     "metadata": {},
     "output_type": "execute_result"
    }
   ],
   "source": [
    "df_ti[df_ti.AnnualIncome<650000].AnnualIncome.value_counts()"
   ]
  },
  {
   "cell_type": "code",
   "execution_count": 31,
   "id": "792f7bb0-f6e9-4f3c-b456-e4bff167cab5",
   "metadata": {},
   "outputs": [
    {
     "data": {
      "text/plain": [
       "1400000    96\n",
       "1500000    64\n",
       "1350000    33\n",
       "1700000    27\n",
       "1450000    25\n",
       "1750000    12\n",
       "1550000     5\n",
       "1800000     4\n",
       "1650000     1\n",
       "Name: AnnualIncome, dtype: int64"
      ]
     },
     "execution_count": 31,
     "metadata": {},
     "output_type": "execute_result"
    }
   ],
   "source": [
    "df_ti[df_ti.AnnualIncome>1300000].AnnualIncome.value_counts()"
   ]
  },
  {
   "cell_type": "code",
   "execution_count": 32,
   "id": "e5522c44-74cf-47fd-afb7-f919b7bf647f",
   "metadata": {},
   "outputs": [
    {
     "data": {
      "text/html": [
       "<div>\n",
       "<style scoped>\n",
       "    .dataframe tbody tr th:only-of-type {\n",
       "        vertical-align: middle;\n",
       "    }\n",
       "\n",
       "    .dataframe tbody tr th {\n",
       "        vertical-align: top;\n",
       "    }\n",
       "\n",
       "    .dataframe thead th {\n",
       "        text-align: right;\n",
       "    }\n",
       "</style>\n",
       "<table border=\"1\" class=\"dataframe\">\n",
       "  <thead>\n",
       "    <tr style=\"text-align: right;\">\n",
       "      <th></th>\n",
       "      <th>Age</th>\n",
       "      <th>EmploymentType</th>\n",
       "      <th>GraduateOrNot</th>\n",
       "      <th>AnnualIncome</th>\n",
       "      <th>FamilyMembers</th>\n",
       "      <th>ChronicDiseases</th>\n",
       "      <th>FrequentFlyer</th>\n",
       "      <th>EverTravelledAbroad</th>\n",
       "      <th>TravelInsurance</th>\n",
       "    </tr>\n",
       "  </thead>\n",
       "  <tbody>\n",
       "    <tr>\n",
       "      <th>611</th>\n",
       "      <td>25</td>\n",
       "      <td>1</td>\n",
       "      <td>1</td>\n",
       "      <td>1800000</td>\n",
       "      <td>6</td>\n",
       "      <td>1</td>\n",
       "      <td>1</td>\n",
       "      <td>0</td>\n",
       "      <td>1</td>\n",
       "    </tr>\n",
       "    <tr>\n",
       "      <th>902</th>\n",
       "      <td>25</td>\n",
       "      <td>1</td>\n",
       "      <td>1</td>\n",
       "      <td>1800000</td>\n",
       "      <td>4</td>\n",
       "      <td>1</td>\n",
       "      <td>1</td>\n",
       "      <td>0</td>\n",
       "      <td>1</td>\n",
       "    </tr>\n",
       "    <tr>\n",
       "      <th>1132</th>\n",
       "      <td>25</td>\n",
       "      <td>1</td>\n",
       "      <td>1</td>\n",
       "      <td>1800000</td>\n",
       "      <td>7</td>\n",
       "      <td>1</td>\n",
       "      <td>1</td>\n",
       "      <td>0</td>\n",
       "      <td>1</td>\n",
       "    </tr>\n",
       "    <tr>\n",
       "      <th>1258</th>\n",
       "      <td>25</td>\n",
       "      <td>1</td>\n",
       "      <td>1</td>\n",
       "      <td>1800000</td>\n",
       "      <td>6</td>\n",
       "      <td>0</td>\n",
       "      <td>1</td>\n",
       "      <td>0</td>\n",
       "      <td>1</td>\n",
       "    </tr>\n",
       "  </tbody>\n",
       "</table>\n",
       "</div>"
      ],
      "text/plain": [
       "      Age  EmploymentType  GraduateOrNot  AnnualIncome  FamilyMembers  \\\n",
       "611    25               1              1       1800000              6   \n",
       "902    25               1              1       1800000              4   \n",
       "1132   25               1              1       1800000              7   \n",
       "1258   25               1              1       1800000              6   \n",
       "\n",
       "      ChronicDiseases  FrequentFlyer  EverTravelledAbroad  TravelInsurance  \n",
       "611                 1              1                    0                1  \n",
       "902                 1              1                    0                1  \n",
       "1132                1              1                    0                1  \n",
       "1258                0              1                    0                1  "
      ]
     },
     "execution_count": 32,
     "metadata": {},
     "output_type": "execute_result"
    }
   ],
   "source": [
    "df_ti[df_ti.AnnualIncome==1800000]"
   ]
  },
  {
   "cell_type": "markdown",
   "id": "fdb8e72e-abd4-48ad-bdff-85ba71b1274e",
   "metadata": {},
   "source": [
    "• ChronicDiseases"
   ]
  },
  {
   "cell_type": "code",
   "execution_count": 33,
   "id": "4015ca62-adbb-4141-a93a-56f857f1563e",
   "metadata": {},
   "outputs": [
    {
     "data": {
      "text/plain": [
       "0    72.416107\n",
       "1    27.583893\n",
       "Name: ChronicDiseases, dtype: float64"
      ]
     },
     "execution_count": 33,
     "metadata": {},
     "output_type": "execute_result"
    }
   ],
   "source": [
    "df_ti.ChronicDiseases.value_counts(normalize=True)*100"
   ]
  },
  {
   "cell_type": "code",
   "execution_count": 34,
   "id": "1d1edcb2-5b97-464b-bc2d-b57435881750",
   "metadata": {},
   "outputs": [
    {
     "data": {
      "text/html": [
       "<div>\n",
       "<style scoped>\n",
       "    .dataframe tbody tr th:only-of-type {\n",
       "        vertical-align: middle;\n",
       "    }\n",
       "\n",
       "    .dataframe tbody tr th {\n",
       "        vertical-align: top;\n",
       "    }\n",
       "\n",
       "    .dataframe thead th {\n",
       "        text-align: right;\n",
       "    }\n",
       "</style>\n",
       "<table border=\"1\" class=\"dataframe\">\n",
       "  <thead>\n",
       "    <tr style=\"text-align: right;\">\n",
       "      <th></th>\n",
       "      <th>Age</th>\n",
       "      <th>EmploymentType</th>\n",
       "      <th>GraduateOrNot</th>\n",
       "      <th>AnnualIncome</th>\n",
       "      <th>FamilyMembers</th>\n",
       "      <th>ChronicDiseases</th>\n",
       "      <th>FrequentFlyer</th>\n",
       "      <th>EverTravelledAbroad</th>\n",
       "      <th>TravelInsurance</th>\n",
       "    </tr>\n",
       "  </thead>\n",
       "  <tbody>\n",
       "    <tr>\n",
       "      <th>count</th>\n",
       "      <td>411.000000</td>\n",
       "      <td>411.000000</td>\n",
       "      <td>411.000000</td>\n",
       "      <td>4.110000e+02</td>\n",
       "      <td>411.000000</td>\n",
       "      <td>411.0</td>\n",
       "      <td>411.000000</td>\n",
       "      <td>411.000000</td>\n",
       "      <td>411.000000</td>\n",
       "    </tr>\n",
       "    <tr>\n",
       "      <th>mean</th>\n",
       "      <td>29.705596</td>\n",
       "      <td>0.712895</td>\n",
       "      <td>0.858881</td>\n",
       "      <td>9.300487e+05</td>\n",
       "      <td>4.829684</td>\n",
       "      <td>1.0</td>\n",
       "      <td>0.187348</td>\n",
       "      <td>0.209246</td>\n",
       "      <td>0.372263</td>\n",
       "    </tr>\n",
       "    <tr>\n",
       "      <th>std</th>\n",
       "      <td>2.887051</td>\n",
       "      <td>0.452962</td>\n",
       "      <td>0.348569</td>\n",
       "      <td>3.824867e+05</td>\n",
       "      <td>1.654320</td>\n",
       "      <td>0.0</td>\n",
       "      <td>0.390666</td>\n",
       "      <td>0.407266</td>\n",
       "      <td>0.483997</td>\n",
       "    </tr>\n",
       "    <tr>\n",
       "      <th>min</th>\n",
       "      <td>25.000000</td>\n",
       "      <td>0.000000</td>\n",
       "      <td>0.000000</td>\n",
       "      <td>3.000000e+05</td>\n",
       "      <td>2.000000</td>\n",
       "      <td>1.0</td>\n",
       "      <td>0.000000</td>\n",
       "      <td>0.000000</td>\n",
       "      <td>0.000000</td>\n",
       "    </tr>\n",
       "    <tr>\n",
       "      <th>25%</th>\n",
       "      <td>28.000000</td>\n",
       "      <td>0.000000</td>\n",
       "      <td>1.000000</td>\n",
       "      <td>6.000000e+05</td>\n",
       "      <td>4.000000</td>\n",
       "      <td>1.0</td>\n",
       "      <td>0.000000</td>\n",
       "      <td>0.000000</td>\n",
       "      <td>0.000000</td>\n",
       "    </tr>\n",
       "    <tr>\n",
       "      <th>50%</th>\n",
       "      <td>29.000000</td>\n",
       "      <td>1.000000</td>\n",
       "      <td>1.000000</td>\n",
       "      <td>9.000000e+05</td>\n",
       "      <td>5.000000</td>\n",
       "      <td>1.0</td>\n",
       "      <td>0.000000</td>\n",
       "      <td>0.000000</td>\n",
       "      <td>0.000000</td>\n",
       "    </tr>\n",
       "    <tr>\n",
       "      <th>75%</th>\n",
       "      <td>32.000000</td>\n",
       "      <td>1.000000</td>\n",
       "      <td>1.000000</td>\n",
       "      <td>1.200000e+06</td>\n",
       "      <td>6.000000</td>\n",
       "      <td>1.0</td>\n",
       "      <td>0.000000</td>\n",
       "      <td>0.000000</td>\n",
       "      <td>1.000000</td>\n",
       "    </tr>\n",
       "    <tr>\n",
       "      <th>max</th>\n",
       "      <td>35.000000</td>\n",
       "      <td>1.000000</td>\n",
       "      <td>1.000000</td>\n",
       "      <td>1.800000e+06</td>\n",
       "      <td>9.000000</td>\n",
       "      <td>1.0</td>\n",
       "      <td>1.000000</td>\n",
       "      <td>1.000000</td>\n",
       "      <td>1.000000</td>\n",
       "    </tr>\n",
       "  </tbody>\n",
       "</table>\n",
       "</div>"
      ],
      "text/plain": [
       "              Age  EmploymentType  GraduateOrNot  AnnualIncome  FamilyMembers  \\\n",
       "count  411.000000      411.000000     411.000000  4.110000e+02     411.000000   \n",
       "mean    29.705596        0.712895       0.858881  9.300487e+05       4.829684   \n",
       "std      2.887051        0.452962       0.348569  3.824867e+05       1.654320   \n",
       "min     25.000000        0.000000       0.000000  3.000000e+05       2.000000   \n",
       "25%     28.000000        0.000000       1.000000  6.000000e+05       4.000000   \n",
       "50%     29.000000        1.000000       1.000000  9.000000e+05       5.000000   \n",
       "75%     32.000000        1.000000       1.000000  1.200000e+06       6.000000   \n",
       "max     35.000000        1.000000       1.000000  1.800000e+06       9.000000   \n",
       "\n",
       "       ChronicDiseases  FrequentFlyer  EverTravelledAbroad  TravelInsurance  \n",
       "count            411.0     411.000000           411.000000       411.000000  \n",
       "mean               1.0       0.187348             0.209246         0.372263  \n",
       "std                0.0       0.390666             0.407266         0.483997  \n",
       "min                1.0       0.000000             0.000000         0.000000  \n",
       "25%                1.0       0.000000             0.000000         0.000000  \n",
       "50%                1.0       0.000000             0.000000         0.000000  \n",
       "75%                1.0       0.000000             0.000000         1.000000  \n",
       "max                1.0       1.000000             1.000000         1.000000  "
      ]
     },
     "execution_count": 34,
     "metadata": {},
     "output_type": "execute_result"
    }
   ],
   "source": [
    "df_ti[df_ti.ChronicDiseases==1].describe()"
   ]
  },
  {
   "cell_type": "code",
   "execution_count": 35,
   "id": "57334737-e9d6-4750-82a4-25ccd22f9eb3",
   "metadata": {},
   "outputs": [
    {
     "data": {
      "text/plain": [
       "0    62.773723\n",
       "1    37.226277\n",
       "Name: TravelInsurance, dtype: float64"
      ]
     },
     "execution_count": 35,
     "metadata": {},
     "output_type": "execute_result"
    }
   ],
   "source": [
    "df_ti[df_ti.ChronicDiseases==1].TravelInsurance.value_counts(normalize=True)*100"
   ]
  },
  {
   "cell_type": "markdown",
   "id": "0bfbf3d8-68b7-42be-8eb6-00d43f12f423",
   "metadata": {},
   "source": [
    "---\n",
    "* Es llamativo que, entre las personas que padecen enfermedades, menos del 40% compró un seguro de viaje. Aquí podemos suponer muchas cosas, como sesgo a la hora de tomar los datos, ya que esas personas pueden tener seguro externo contratado.\n",
    "\n",
    "* Se planteó agrupar los montos anuales y hacer una variable categórica por rangos, pero se prefirió usarla del modo en como venía para conservar cierta diversidad en los datos.\n",
    "\n",
    "* Se tomó la decisión de no sacar los outliers por:\n",
    "    * La cantidad de datos es reducida, por lo que sacar datos podría crear sesgos.\n",
    "    * Los modelos basados en algorítmos de árboles no se ven muy influenciados por outliers.\n",
    "---"
   ]
  },
  {
   "cell_type": "markdown",
   "id": "c3d6d2fa-ca9a-4442-9938-86cf740bc4a8",
   "metadata": {},
   "source": [
    "### Target"
   ]
  },
  {
   "cell_type": "code",
   "execution_count": 36,
   "id": "595cea02-83d6-46a3-817a-d5d640ea41ec",
   "metadata": {},
   "outputs": [
    {
     "data": {
      "image/png": "[encoded data removed]",
      "text/plain": [
       "<Figure size 576x432 with 1 Axes>"
      ]
     },
     "metadata": {
      "needs_background": "light"
     },
     "output_type": "display_data"
    }
   ],
   "source": [
    "plt.figure(figsize=(8,6))\n",
    "ax = sns.countplot(x='TravelInsurance', data=df_ti)\n",
    "label_values = df_ti.TravelInsurance.value_counts().values\n",
    "nor_label_values = df_ti.TravelInsurance.value_counts(normalize=True).values\n",
    "lbls = [f'{p[0]} ({round(p[1]*100, 2)}%)' for p in zip(label_values, nor_label_values)]\n",
    "\n",
    "ax.bar_label(container=ax.containers[0], labels=lbls)\n",
    "plt.title('Distribución de TravelInsurance', fontsize=16)\n",
    "plt.show()"
   ]
  },
  {
   "cell_type": "markdown",
   "id": "96080b07-3f2b-42f2-9aea-46f7d19d0557",
   "metadata": {},
   "source": [
    "Tenemos un 35.7% de clientes que no han adquirido el seguro de viajes de esta empresa."
   ]
  },
  {
   "cell_type": "markdown",
   "id": "309f194f-bc05-4f0d-b705-c7cebc624694",
   "metadata": {},
   "source": [
    "---"
   ]
  },
  {
   "cell_type": "markdown",
   "id": "7d9000f6-0f9a-4f49-94cf-1b2166fa2070",
   "metadata": {},
   "source": [
    "### Correlación"
   ]
  },
  {
   "cell_type": "code",
   "execution_count": 37,
   "id": "f7129d7e-04e9-4304-9ac7-0fc304269a36",
   "metadata": {},
   "outputs": [
    {
     "data": {
      "image/png": "[encoded data removed]",
      "text/plain": [
       "<Figure size 1008x720 with 2 Axes>"
      ]
     },
     "metadata": {},
     "output_type": "display_data"
    }
   ],
   "source": [
    "corr = df_ti.corr()\n",
    "mask = np.zeros_like(corr)\n",
    "mask[np.triu_indices_from(mask)] = True\n",
    "with sns.axes_style(\"white\"):\n",
    "    f, ax = plt.subplots(figsize=(14, 10))\n",
    "    ax = sns.heatmap(corr, annot=True, mask=mask, square=True, cmap='viridis')"
   ]
  },
  {
   "cell_type": "code",
   "execution_count": 38,
   "id": "35840849-0d94-401e-91f5-4aa61d81abbe",
   "metadata": {},
   "outputs": [
    {
     "data": {
      "image/png": "[encoded data removed]",
      "text/plain": [
       "<Figure size 1440x1440 with 8 Axes>"
      ]
     },
     "metadata": {
      "needs_background": "light"
     },
     "output_type": "display_data"
    }
   ],
   "source": [
    "cols = df_ti.drop(columns=['AnnualIncome']).columns.values\n",
    "\n",
    "n_rows = math.ceil(len(cols)/2)\n",
    "n_cols = 2\n",
    "count = 0\n",
    "fig, ax = plt.subplots(n_rows, n_cols, figsize=(20,20))\n",
    "for i in cols:\n",
    "    row = math.floor(count / n_cols)\n",
    "    col = count % n_cols\n",
    "    axes = ax[row, col]\n",
    "    sns.boxenplot(data=df_ti, x=i, y='AnnualIncome', color='green', ax=axes)\n",
    "    axes.set_title(f'Distribución de {i}', fontsize=14)\n",
    "    count += 1\n",
    "fig.suptitle('Distribuciones vs Ingreso Anual', fontsize=18, y=0.92)\n",
    "plt.show()"
   ]
  },
  {
   "cell_type": "markdown",
   "id": "f41b06ff-aaaf-44ac-b313-30825c50c3a9",
   "metadata": {},
   "source": [
    "Con el gráfico de correlatividad podemos deducir que:\n",
    "* El grado de correlatividad entre las variables no superan el 50%.\n",
    "* Podemos remarcar que el ingreso anual influye bastante en variables como \"Viajero Frecuente\", que el cliente tome viajes al exterior, y que pueda pagarse el seguro de viaje. Para reforzar nuestra intuición, realizamos el bokenplot y efectivamente. Podemos notar que cuanto mayor es el ingreso, más posibilidades de que estas variables tomen el valor 1, es decir, si son frecuentes, si pueden viajar al exterior y si tienen más posibilidades de pagarse un seguro de viajes.\n",
    "* También remarcamos que aquellos con mayor ingreso anual tienden a ser de sectores privados o ser autónomos.\n",
    "* La última variable que vamos a tomar en consideración, es la variable de viajes al exterior, la cual resalta entre las demás correlacionarse con la variable de seguro de vida. Podemos intuir que aquellas personas con más posibilidades de viajar al exterior, son las que tienden a sacar un seguro de vida."
   ]
  },
  {
   "cell_type": "markdown",
   "id": "58dff2ef-d040-47a1-afff-a9292819746c",
   "metadata": {},
   "source": [
    "---"
   ]
  },
  {
   "cell_type": "markdown",
   "id": "f9033dd4-0601-45d3-9fcf-4cf54965d8f2",
   "metadata": {},
   "source": [
    "### Separación de X e Y"
   ]
  },
  {
   "cell_type": "code",
   "execution_count": 39,
   "id": "b3b53d67-cf30-40da-ae57-a2accceeb9a3",
   "metadata": {},
   "outputs": [
    {
     "name": "stdout",
     "output_type": "stream",
     "text": [
      "(1490, 8) (1490, 1)\n",
      "(497, 8)\n"
     ]
    }
   ],
   "source": [
    "X_train = df_ti.iloc[:,:-1].values\n",
    "y_train = df_ti.iloc[:,-1].values.reshape(-1,1)\n",
    "\n",
    "X_test = test_df_ti.values\n",
    "\n",
    "print(X_train.shape, y_train.shape)\n",
    "print(X_test.shape)"
   ]
  },
  {
   "cell_type": "markdown",
   "id": "0964961b-bda3-4e48-84df-09d2a578726c",
   "metadata": {},
   "source": [
    "---"
   ]
  },
  {
   "cell_type": "markdown",
   "id": "26bfb356-83ec-4674-9953-19071f7d8903",
   "metadata": {},
   "source": [
    "## Balanceo de datos"
   ]
  },
  {
   "cell_type": "markdown",
   "id": "129642e8-391a-43c1-841f-7fdba57b621e",
   "metadata": {},
   "source": [
    "Las técnicas de aprendizaje automático suelen fallar o dar un rendimiento engañoso en conjuntos de datos de clasificación con una distribución de clases desequilibrada.\n",
    "\n",
    "La razón es que muchos algoritmos de aprendizaje automático están diseñados para operar en datos de clasificación con un número igual de observaciones para cada clase. Cuando este no es el caso, los algoritmos pueden aprender que muy pocos ejemplos no son importantes y pueden ser ignorados para conseguir un buen rendimiento.\n",
    "\n",
    "El muestreo de datos ofrece un conjunto de técnicas que transforman un conjunto de datos de entrenamiento para equilibrar o mejorar la distribución de las clases. Una vez equilibrada, los algoritmos estándar de aprendizaje automático pueden entrenarse directamente en el conjunto de datos transformado sin ninguna modificación. Esto permite abordar el reto de la clasificación desequilibrada, incluso con distribuciones de clase muy desequilibradas, con un método de preparación de datos.\n",
    "\n",
    "* Fuente: [link](https://machinelearningmastery.com/data-sampling-methods-for-imbalanced-classification/)\n",
    "* Fuente SMOTE: [link](https://machinelearningmastery.com/smote-oversampling-for-imbalanced-classification/)"
   ]
  },
  {
   "cell_type": "code",
   "execution_count": 40,
   "id": "1217ca32-cc86-455f-84bb-f2c9e8c57907",
   "metadata": {},
   "outputs": [
    {
     "name": "stdout",
     "output_type": "stream",
     "text": [
      "(1916, 8) (1916,)\n"
     ]
    }
   ],
   "source": [
    "smote = SMOTE()\n",
    "X_train_resampled, y_train_resampled = smote.fit_resample(X_train, y_train)\n",
    "print(X_train_resampled.shape, y_train_resampled.shape)"
   ]
  },
  {
   "cell_type": "code",
   "execution_count": 41,
   "id": "afa878cc-1bb2-4464-93d7-ec46829c3e32",
   "metadata": {},
   "outputs": [
    {
     "name": "stdout",
     "output_type": "stream",
     "text": [
      "[0 1] [958 958]\n"
     ]
    }
   ],
   "source": [
    "unique, counts = np.unique(y_train_resampled, return_counts=True)\n",
    "print(unique, counts)"
   ]
  },
  {
   "cell_type": "markdown",
   "id": "1a63e5b2-8cff-47f0-bfa1-d1418e0b6d67",
   "metadata": {},
   "source": [
    "---"
   ]
  },
  {
   "cell_type": "markdown",
   "id": "187c650e-9140-4eed-b37f-e8933127931d",
   "metadata": {},
   "source": [
    "## Implementación RandomForestClassifier"
   ]
  },
  {
   "cell_type": "markdown",
   "id": "fe6607e4-3890-4dec-9786-6d639a4ff2af",
   "metadata": {},
   "source": [
    "**Aclaración**: En nuestro trabajo práctico, se buscan los hiperparámetros con un GridSearchCV. Aquí simplemente se implementa el mejor modelo (Best Model)"
   ]
  },
  {
   "cell_type": "code",
   "execution_count": 42,
   "id": "02098fd8-dc49-4758-8f63-172cdceb9edf",
   "metadata": {},
   "outputs": [
    {
     "data": {
      "text/plain": [
       "RandomForestClassifier(criterion='entropy', max_depth=16, max_features='log2',\n",
       "                       n_estimators=80, random_state=15)"
      ]
     },
     "execution_count": 42,
     "metadata": {},
     "output_type": "execute_result"
    }
   ],
   "source": [
    "rfc_model = RandomForestClassifier(criterion='entropy', max_depth=16, max_features='log2', n_estimators=80, random_state=15)\n",
    "rfc_model.fit(X_train_resampled, y_train_resampled)"
   ]
  },
  {
   "cell_type": "code",
   "execution_count": 43,
   "id": "1cbcba47-fcde-49ef-88ca-8b405284eb98",
   "metadata": {},
   "outputs": [
    {
     "data": {
      "text/plain": [
       "0.918580375782881"
      ]
     },
     "execution_count": 43,
     "metadata": {},
     "output_type": "execute_result"
    }
   ],
   "source": [
    "rfc_model.score(X_train_resampled, y_train_resampled)"
   ]
  },
  {
   "cell_type": "code",
   "execution_count": 45,
   "id": "d93952a7-8789-4558-b907-173db60f3007",
   "metadata": {},
   "outputs": [],
   "source": [
    "y_train_pred_rfc = rfc_model.predict(X_train)"
   ]
  },
  {
   "cell_type": "code",
   "execution_count": 47,
   "id": "f1455425-b21e-4fd4-96ed-3ee7ae0b21b8",
   "metadata": {
    "colab": {
     "base_uri": "https://localhost:8080/"
    },
    "id": "OLCLnMTir_u5",
    "outputId": "a39f09c7-873b-45d1-e5a0-3593bedab615"
   },
   "outputs": [
    {
     "data": {
      "image/png": "[encoded data removed]",
      "text/plain": [
       "<Figure size 864x432 with 2 Axes>"
      ]
     },
     "metadata": {
      "needs_background": "light"
     },
     "output_type": "display_data"
    }
   ],
   "source": [
    "cm_train = confusion_matrix(y_train, y_train_pred_rfc)\n",
    "\n",
    "disp = ConfusionMatrixDisplay(confusion_matrix=cm_train, display_labels=rfc_model.classes_)\n",
    "fig, ax = plt.subplots(figsize=(12,6))\n",
    "ax.set_title('Matriz de Confusión: RandomForestClassifier - Train', fontsize=18)\n",
    "disp.plot(cmap='GnBu', ax=ax)\n",
    "plt.show()"
   ]
  },
  {
   "cell_type": "code",
   "execution_count": 48,
   "id": "b8ae80f3-1613-47da-add4-0857167e0e03",
   "metadata": {
    "colab": {
     "base_uri": "https://localhost:8080/"
    },
    "id": "FCyjzElLsN_J",
    "outputId": "c17bf21d-9a3d-467b-b0fe-22e4ddc0b594"
   },
   "outputs": [
    {
     "name": "stdout",
     "output_type": "stream",
     "text": [
      "===============================================================================\n",
      "RandomForestClassifier - Reporte de clasificación del conjunto de entrenamiento\n",
      "===============================================================================\n",
      "              precision    recall  f1-score   support\n",
      "\n",
      "           0       0.93      0.95      0.94       958\n",
      "           1       0.91      0.87      0.89       532\n",
      "\n",
      "    accuracy                           0.92      1490\n",
      "   macro avg       0.92      0.91      0.91      1490\n",
      "weighted avg       0.92      0.92      0.92      1490\n",
      "\n"
     ]
    }
   ],
   "source": [
    "# Evaluate val\n",
    "text = \"RandomForestClassifier - Reporte de clasificación del conjunto de entrenamiento\" \n",
    "print(len(text)*\"=\")\n",
    "print(text)\n",
    "print(len(text)*\"=\")\n",
    "\n",
    "cr = classification_report(y_train, y_train_pred_rfc)\n",
    "print(cr)"
   ]
  },
  {
   "cell_type": "code",
   "execution_count": 50,
   "id": "dd5a9484-da12-4417-a01a-b32d6c6bbce3",
   "metadata": {},
   "outputs": [],
   "source": [
    "y_test_pred_final_rfc = rfc_model.predict(X_test)"
   ]
  },
  {
   "cell_type": "code",
   "execution_count": 51,
   "id": "3ac0b121-bd92-4408-9cdb-f07a9b7c4f23",
   "metadata": {},
   "outputs": [],
   "source": [
    "test_id = test_df[\"Customer\"]\n",
    "test_pred = y_test_pred_final_rfc\n",
    "\n",
    "submission = pd.DataFrame(list(zip(test_id, test_pred)), columns=[\"Customer\", \"TravelInsurance\"])\n",
    "submission.to_csv(\"./data_pred/travel_insurance_submission_RANDOMFORESTCLASSIFIER.csv\", header=True, index=False)"
   ]
  },
  {
   "cell_type": "markdown",
   "id": "e9f3512a-b3e3-4642-bd4b-199e48e417b6",
   "metadata": {},
   "source": [
    "---"
   ]
  },
  {
   "cell_type": "markdown",
   "id": "a37581af-fa2c-4f4e-95ba-8e2ef25405fd",
   "metadata": {},
   "source": [
    "## Implementación AutoPyTorch"
   ]
  },
  {
   "cell_type": "code",
   "execution_count": 60,
   "id": "1f64b382-f393-4cb6-b80a-f37a77d2be2f",
   "metadata": {},
   "outputs": [
    {
     "name": "stdout",
     "output_type": "stream",
     "text": [
      "[WARNING] [2021-12-09 23:42:35,919:Client-Validation] AutoPyTorch previously received features of type <class 'numpy.ndarray'> yet the current features have type <class 'pandas.core.frame.DataFrame'>. Changing the dtype of inputs to an estimator might cause problems\n",
      "[WARNING] [2021-12-09 23:42:35,943:Client-Validation] AutoPyTorch previously received features of type <class 'numpy.ndarray'> yet the current features have type <class 'pandas.core.frame.DataFrame'>. Changing the dtype of inputs to an estimator might cause problems\n",
      "[ERROR] [2021-12-09 23:42:45,297:Client-AutoPyTorch:af69addb-5949-11ec-826c-79b6f25119f8:1] Traditional prediction for catboost failed with run state StatusType.CRASHED.\n",
      "Additional info:\n",
      "error: Result queue is empty\n",
      "exit_status: <class 'pynisher.limit_function_call.AnythingException'>\n",
      "subprocess_stdout: \n",
      "subprocess_stderr: \n",
      "exitcode: -11\n",
      "configuration_origin: traditional\n"
     ]
    },
    {
     "data": {
      "text/plain": [
       "<autoPyTorch.api.tabular_classification.TabularClassificationTask at 0x7f3611381a30>"
      ]
     },
     "execution_count": 60,
     "metadata": {},
     "output_type": "execute_result"
    }
   ],
   "source": [
    "# initialise Auto-PyTorch api\n",
    "api = TabularClassificationTask()\n",
    "\n",
    "# Search for an ensemble of machine learning algorithms\n",
    "api.search(\n",
    "    X_train=X_train_resampled,\n",
    "    y_train=y_train_resampled.reshape(-1,1),\n",
    "    X_test=X_train,\n",
    "    y_test=y_train,\n",
    "    optimize_metric='f1',\n",
    "    total_walltime_limit=300,\n",
    "    func_eval_time_limit_secs=50\n",
    ")"
   ]
  },
  {
   "cell_type": "code",
   "execution_count": 64,
   "id": "42909b79-a9a6-47a5-ba79-29aa69cc7a65",
   "metadata": {},
   "outputs": [
    {
     "name": "stdout",
     "output_type": "stream",
     "text": [
      "F1-score {'f1': 0.8348623853211008}\n"
     ]
    }
   ],
   "source": [
    "# Calculate test F1-Score\n",
    "y_pred_autopytorch = api.predict(X_train)\n",
    "score = api.score(y_pred_autopytorch, y_train)\n",
    "print(\"F1-score\", score)"
   ]
  },
  {
   "cell_type": "code",
   "execution_count": 66,
   "id": "7b553d88-0293-437e-ab45-911fa2f6a22b",
   "metadata": {},
   "outputs": [
    {
     "name": "stdout",
     "output_type": "stream",
     "text": [
      "|    | Preprocessing   | Estimator   |   Weight |\n",
      "|---:|:----------------|:------------|---------:|\n",
      "|  0 | None            | LGBMLearner |     0.66 |\n",
      "|  1 | None            | RFLearner   |     0.16 |\n",
      "|  2 | None            | ETLearner   |     0.08 |\n",
      "|  3 | None            | SVMLearner  |     0.08 |\n",
      "|  4 | None            | KNNLearner  |     0.02 |\n"
     ]
    }
   ],
   "source": [
    "print(api.show_models())"
   ]
  },
  {
   "cell_type": "code",
   "execution_count": 67,
   "id": "3ec143b1-fe34-4a3a-934b-f8283f1e9986",
   "metadata": {},
   "outputs": [
    {
     "name": "stdout",
     "output_type": "stream",
     "text": [
      "autoPyTorch results:\n",
      "\tDataset name: af69addb-5949-11ec-826c-79b6f25119f8\n",
      "\tOptimisation Metric: f1\n",
      "\tBest validation score: 0.771004942339374\n",
      "\tNumber of target algorithm runs: 28\n",
      "\tNumber of successful target algorithm runs: 7\n",
      "\tNumber of crashed target algorithm runs: 20\n",
      "\tNumber of target algorithms that exceeded the time limit: 1\n",
      "\tNumber of target algorithms that exceeded the memory limit: 0\n",
      "\n"
     ]
    }
   ],
   "source": [
    "# Print statistics from search\n",
    "print(api.sprint_statistics())"
   ]
  },
  {
   "cell_type": "code",
   "execution_count": 70,
   "id": "74284403-03ce-498e-a4e8-b7e97a9188b2",
   "metadata": {
    "colab": {
     "base_uri": "https://localhost:8080/"
    },
    "id": "OLCLnMTir_u5",
    "outputId": "a39f09c7-873b-45d1-e5a0-3593bedab615"
   },
   "outputs": [
    {
     "data": {
      "image/png": "[encoded data removed]",
      "text/plain": [
       "<Figure size 864x432 with 2 Axes>"
      ]
     },
     "metadata": {
      "needs_background": "light"
     },
     "output_type": "display_data"
    }
   ],
   "source": [
    "cm_train = confusion_matrix(y_train, y_pred_autopytorch)\n",
    "\n",
    "disp = ConfusionMatrixDisplay(confusion_matrix=cm_train, display_labels=rfc_model.classes_)\n",
    "fig, ax = plt.subplots(figsize=(12,6))\n",
    "ax.set_title('Matriz de Confusión: AutoPytorch - Train', fontsize=18)\n",
    "disp.plot(cmap='GnBu', ax=ax)\n",
    "plt.show()"
   ]
  },
  {
   "cell_type": "code",
   "execution_count": 72,
   "id": "c9cbe6d2-eb43-4445-8bdc-576ebc8a2636",
   "metadata": {
    "colab": {
     "base_uri": "https://localhost:8080/"
    },
    "id": "FCyjzElLsN_J",
    "outputId": "c17bf21d-9a3d-467b-b0fe-22e4ddc0b594"
   },
   "outputs": [
    {
     "name": "stdout",
     "output_type": "stream",
     "text": [
      "====================================================================\n",
      "AutoPyTorch - Reporte de clasificación del conjunto de entrenamiento\n",
      "====================================================================\n",
      "              precision    recall  f1-score   support\n",
      "\n",
      "           0       0.92      0.89      0.90       958\n",
      "           1       0.82      0.86      0.83       532\n",
      "\n",
      "    accuracy                           0.88      1490\n",
      "   macro avg       0.87      0.87      0.87      1490\n",
      "weighted avg       0.88      0.88      0.88      1490\n",
      "\n"
     ]
    }
   ],
   "source": [
    "# Evaluate val\n",
    "text = \"AutoPyTorch - Reporte de clasificación del conjunto de entrenamiento\" \n",
    "print(len(text)*\"=\")\n",
    "print(text)\n",
    "print(len(text)*\"=\")\n",
    "\n",
    "cr = classification_report(y_train, y_pred_autopytorch)\n",
    "print(cr)"
   ]
  },
  {
   "cell_type": "code",
   "execution_count": 73,
   "id": "2e21e7d4-ecc3-4882-9466-87d1a046fd97",
   "metadata": {},
   "outputs": [],
   "source": [
    "y_test_pred_final_autopytorch = api.predict(X_test)"
   ]
  },
  {
   "cell_type": "code",
   "execution_count": 74,
   "id": "79e13a3e-912b-4af4-b8ea-bbd8efd77580",
   "metadata": {},
   "outputs": [],
   "source": [
    "test_id = test_df[\"Customer\"]\n",
    "test_pred = y_test_pred_final_autopytorch\n",
    "\n",
    "submission = pd.DataFrame(list(zip(test_id, test_pred)), columns=[\"Customer\", \"TravelInsurance\"])\n",
    "submission.to_csv(\"./data_pred/travel_insurance_submission_AUTOPYTORCH.csv\", header=True, index=False)"
   ]
  },
  {
   "cell_type": "markdown",
   "id": "70867617-12b5-4994-b0da-e8633f8ae8c1",
   "metadata": {},
   "source": [
    "---"
   ]
  },
  {
   "cell_type": "markdown",
   "id": "ba657e93-adab-4ead-becc-619ae4ae81b2",
   "metadata": {},
   "source": [
    "# Conclusión"
   ]
  },
  {
   "cell_type": "markdown",
   "id": "6522f7c9-5578-47e1-b9dd-73638eaadd5c",
   "metadata": {},
   "source": [
    "Como podemos observar, en la búsqueda de nuestro objetivo, se sigue obteniendo mejores resultados con el **RandomForestClassifier** con un F1-score de 89 en nuestra clase 1.\n",
    "\n",
    "**Larga vida al RandomForest**"
   ]
  },
  {
   "cell_type": "markdown",
   "id": "7fe283c2-e7a9-4445-994f-eeb6ef65d23e",
   "metadata": {},
   "source": [
    "# **Aclaraciones**\n",
    "* Puede que Autopytorch obtenga mejores resultado si se juega un poco con las variables, aunque con la poca experiencia, probamos los que aparecían en la documentación.\n",
    "* Se levantó Jupyter a través de Docker ya que AutoPytorch no pudo ser instalado en Windows 10."
   ]
  },
  {
   "cell_type": "markdown",
   "id": "50e7cf74-7c98-43b5-8cc7-e485a6459dbf",
   "metadata": {},
   "source": [
    "---"
   ]
  },
  {
   "cell_type": "markdown",
   "id": "d9bc6e7c-a004-4930-b1d7-a98ad14d6191",
   "metadata": {},
   "source": [
    "# Fuente"
   ]
  },
  {
   "cell_type": "markdown",
   "id": "ed6fa403-008f-46c7-8aac-4a4dd9bbbe28",
   "metadata": {},
   "source": [
    "Link: [AutoML - AutoPytorch](https://automl.github.io/Auto-PyTorch/development/examples/20_basics/example_tabular_classification.html#sphx-glr-examples-20-basics-example-tabular-classification-py)"
   ]
  },
  {
   "cell_type": "code",
   "execution_count": null,
   "id": "5e3a9977-c047-496b-a5c3-81916d0bc126",
   "metadata": {},
   "outputs": [],
   "source": []
  }
 ],
 "metadata": {
  "kernelspec": {
   "display_name": "Python 3 (ipykernel)",
   "language": "python",
   "name": "python3"
  },
  "language_info": {
   "codemirror_mode": {
    "name": "ipython",
    "version": 3
   },
   "file_extension": ".py",
   "mimetype": "text/x-python",
   "name": "python",
   "nbconvert_exporter": "python",
   "pygments_lexer": "ipython3",
   "version": "3.9.7"
  }
 },
 "nbformat": 4,
 "nbformat_minor": 5
}
